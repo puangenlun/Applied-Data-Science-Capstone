{
    "cells": [
        {
            "cell_type": "markdown",
            "metadata": {
                "collapsed": true
            },
            "source": "# My Jupyter Notebook on IBM Watson Studio"
        },
        {
            "cell_type": "markdown",
            "metadata": {},
            "source": "**Puang En Lun**  \nData Scientist"
        },
        {
            "cell_type": "markdown",
            "metadata": {},
            "source": "*I am interested in data science because data science processes are full of fun, we can get some fun fact that hidden in the data, and let other people know what we discovered.*"
        },
        {
            "cell_type": "markdown",
            "metadata": {},
            "source": "### In the next cell, I am going to calculate the square of 16. ###"
        },
        {
            "cell_type": "code",
            "execution_count": 2,
            "metadata": {},
            "outputs": [
                {
                    "name": "stdout",
                    "output_type": "stream",
                    "text": "4.0\n"
                }
            ],
            "source": "print(16**0.5)"
        },
        {
            "cell_type": "markdown",
            "metadata": {},
            "source": "[Please dont click this link](https://www.datascienceissofun.com)\n\n1. triangle\n2. square\n3. Circle\n\n\n* front\n- back\n+ left\n- right"
        }
    ],
    "metadata": {
        "kernelspec": {
            "display_name": "Python 3.8",
            "language": "python",
            "name": "python3"
        },
        "language_info": {
            "codemirror_mode": {
                "name": "ipython",
                "version": 3
            },
            "file_extension": ".py",
            "mimetype": "text/x-python",
            "name": "python",
            "nbconvert_exporter": "python",
            "pygments_lexer": "ipython3",
            "version": "3.8.10"
        }
    },
    "nbformat": 4,
    "nbformat_minor": 1
}